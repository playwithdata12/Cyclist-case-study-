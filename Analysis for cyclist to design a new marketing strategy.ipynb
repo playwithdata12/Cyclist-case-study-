{
 "cells": [
  {
   "cell_type": "code",
   "execution_count": 1,
   "metadata": {},
   "outputs": [],
   "source": [
    "import pandas as pd \n",
    "import numpy as np \n",
    "import matplotlib.pyplot as plt \n",
    "import seaborn as sns\n",
    "import datetime"
   ]
  },
  {
   "cell_type": "code",
   "execution_count": 3,
   "metadata": {},
   "outputs": [],
   "source": [
    "jan= pd.read_csv(r\"C:\\Users\\Atharva\\google data analytics capstone project\\jan-tripdata.csv\")\n",
    "feb= pd.read_csv(r\"C:\\Users\\Atharva\\google data analytics capstone project\\feb-tripdata.csv\")\n",
    "march= pd.read_csv(r\"C:\\Users\\Atharva\\google data analytics capstone project\\march-tripdata.csv\")\n",
    "april= pd.read_csv(r\"C:\\Users\\Atharva\\google data analytics capstone project\\april-tripdata.csv\")\n",
    "may= pd.read_csv(r\"C:\\Users\\Atharva\\google data analytics capstone project\\may-tripdata.csv\")\n",
    "june= pd.read_csv(r\"C:\\Users\\Atharva\\google data analytics capstone project\\june-tripdata.csv\")\n",
    "july= pd.read_csv(r\"C:\\Users\\Atharva\\google data analytics capstone project\\july-tripdata.csv\")\n",
    "aug= pd.read_csv(r\"C:\\Users\\Atharva\\google data analytics capstone project\\august-tripdata.csv\")\n",
    "sep= pd.read_csv(r\"C:\\Users\\Atharva\\google data analytics capstone project\\sept-tripdata.csv\")\n",
    "octo= pd.read_csv(r\"C:\\Users\\Atharva\\google data analytics capstone project\\oct-tripdata.csv\")\n",
    "nov= pd.read_csv(r\"C:\\Users\\Atharva\\google data analytics capstone project\\nov-tripdata.csv\")\n",
    "dec= pd.read_csv(r\"C:\\Users\\Atharva\\google data analytics capstone project\\dec-tripdata.csv\")"
   ]
  },
  {
   "cell_type": "code",
   "execution_count": 5,
   "metadata": {},
   "outputs": [],
   "source": [
    "#now lets merge all the dataframes into one \n",
    "data_frames = [jan, feb, march,april,may,june,july,aug,sep,octo,nov,dec]\n",
    "data_df = pd.concat(data_frames)"
   ]
  },
  {
   "cell_type": "code",
   "execution_count": 6,
   "metadata": {},
   "outputs": [
    {
     "data": {
      "text/html": [
       "<div>\n",
       "<style scoped>\n",
       "    .dataframe tbody tr th:only-of-type {\n",
       "        vertical-align: middle;\n",
       "    }\n",
       "\n",
       "    .dataframe tbody tr th {\n",
       "        vertical-align: top;\n",
       "    }\n",
       "\n",
       "    .dataframe thead th {\n",
       "        text-align: right;\n",
       "    }\n",
       "</style>\n",
       "<table border=\"1\" class=\"dataframe\">\n",
       "  <thead>\n",
       "    <tr style=\"text-align: right;\">\n",
       "      <th></th>\n",
       "      <th>ride_id</th>\n",
       "      <th>rideable_type</th>\n",
       "      <th>started_at</th>\n",
       "      <th>ended_at</th>\n",
       "      <th>start_station_name</th>\n",
       "      <th>start_station_id</th>\n",
       "      <th>end_station_name</th>\n",
       "      <th>end_station_id</th>\n",
       "      <th>start_lat</th>\n",
       "      <th>start_lng</th>\n",
       "      <th>end_lat</th>\n",
       "      <th>end_lng</th>\n",
       "      <th>member_casual</th>\n",
       "    </tr>\n",
       "  </thead>\n",
       "  <tbody>\n",
       "    <tr>\n",
       "      <td>0</td>\n",
       "      <td>E19E6F1B8D4C42ED</td>\n",
       "      <td>electric_bike</td>\n",
       "      <td>2021-01-23 16:14:19</td>\n",
       "      <td>2021-01-23 16:24:44</td>\n",
       "      <td>California Ave &amp; Cortez St</td>\n",
       "      <td>17660</td>\n",
       "      <td>NaN</td>\n",
       "      <td>NaN</td>\n",
       "      <td>41.900341</td>\n",
       "      <td>-87.696743</td>\n",
       "      <td>41.89</td>\n",
       "      <td>-87.72</td>\n",
       "      <td>member</td>\n",
       "    </tr>\n",
       "    <tr>\n",
       "      <td>1</td>\n",
       "      <td>DC88F20C2C55F27F</td>\n",
       "      <td>electric_bike</td>\n",
       "      <td>2021-01-27 18:43:08</td>\n",
       "      <td>2021-01-27 18:47:12</td>\n",
       "      <td>California Ave &amp; Cortez St</td>\n",
       "      <td>17660</td>\n",
       "      <td>NaN</td>\n",
       "      <td>NaN</td>\n",
       "      <td>41.900333</td>\n",
       "      <td>-87.696707</td>\n",
       "      <td>41.90</td>\n",
       "      <td>-87.69</td>\n",
       "      <td>member</td>\n",
       "    </tr>\n",
       "    <tr>\n",
       "      <td>2</td>\n",
       "      <td>EC45C94683FE3F27</td>\n",
       "      <td>electric_bike</td>\n",
       "      <td>2021-01-21 22:35:54</td>\n",
       "      <td>2021-01-21 22:37:14</td>\n",
       "      <td>California Ave &amp; Cortez St</td>\n",
       "      <td>17660</td>\n",
       "      <td>NaN</td>\n",
       "      <td>NaN</td>\n",
       "      <td>41.900313</td>\n",
       "      <td>-87.696643</td>\n",
       "      <td>41.90</td>\n",
       "      <td>-87.70</td>\n",
       "      <td>member</td>\n",
       "    </tr>\n",
       "    <tr>\n",
       "      <td>3</td>\n",
       "      <td>4FA453A75AE377DB</td>\n",
       "      <td>electric_bike</td>\n",
       "      <td>2021-01-07 13:31:13</td>\n",
       "      <td>2021-01-07 13:42:55</td>\n",
       "      <td>California Ave &amp; Cortez St</td>\n",
       "      <td>17660</td>\n",
       "      <td>NaN</td>\n",
       "      <td>NaN</td>\n",
       "      <td>41.900399</td>\n",
       "      <td>-87.696662</td>\n",
       "      <td>41.92</td>\n",
       "      <td>-87.69</td>\n",
       "      <td>member</td>\n",
       "    </tr>\n",
       "    <tr>\n",
       "      <td>4</td>\n",
       "      <td>BE5E8EB4E7263A0B</td>\n",
       "      <td>electric_bike</td>\n",
       "      <td>2021-01-23 02:24:02</td>\n",
       "      <td>2021-01-23 02:24:45</td>\n",
       "      <td>California Ave &amp; Cortez St</td>\n",
       "      <td>17660</td>\n",
       "      <td>NaN</td>\n",
       "      <td>NaN</td>\n",
       "      <td>41.900326</td>\n",
       "      <td>-87.696697</td>\n",
       "      <td>41.90</td>\n",
       "      <td>-87.70</td>\n",
       "      <td>casual</td>\n",
       "    </tr>\n",
       "  </tbody>\n",
       "</table>\n",
       "</div>"
      ],
      "text/plain": [
       "            ride_id  rideable_type           started_at             ended_at  \\\n",
       "0  E19E6F1B8D4C42ED  electric_bike  2021-01-23 16:14:19  2021-01-23 16:24:44   \n",
       "1  DC88F20C2C55F27F  electric_bike  2021-01-27 18:43:08  2021-01-27 18:47:12   \n",
       "2  EC45C94683FE3F27  electric_bike  2021-01-21 22:35:54  2021-01-21 22:37:14   \n",
       "3  4FA453A75AE377DB  electric_bike  2021-01-07 13:31:13  2021-01-07 13:42:55   \n",
       "4  BE5E8EB4E7263A0B  electric_bike  2021-01-23 02:24:02  2021-01-23 02:24:45   \n",
       "\n",
       "           start_station_name start_station_id end_station_name  \\\n",
       "0  California Ave & Cortez St            17660              NaN   \n",
       "1  California Ave & Cortez St            17660              NaN   \n",
       "2  California Ave & Cortez St            17660              NaN   \n",
       "3  California Ave & Cortez St            17660              NaN   \n",
       "4  California Ave & Cortez St            17660              NaN   \n",
       "\n",
       "  end_station_id  start_lat  start_lng  end_lat  end_lng member_casual  \n",
       "0            NaN  41.900341 -87.696743    41.89   -87.72        member  \n",
       "1            NaN  41.900333 -87.696707    41.90   -87.69        member  \n",
       "2            NaN  41.900313 -87.696643    41.90   -87.70        member  \n",
       "3            NaN  41.900399 -87.696662    41.92   -87.69        member  \n",
       "4            NaN  41.900326 -87.696697    41.90   -87.70        casual  "
      ]
     },
     "execution_count": 6,
     "metadata": {},
     "output_type": "execute_result"
    }
   ],
   "source": [
    "data_df.head()"
   ]
  },
  {
   "cell_type": "code",
   "execution_count": 7,
   "metadata": {},
   "outputs": [
    {
     "data": {
      "text/plain": [
       "ride_id                object\n",
       "rideable_type          object\n",
       "started_at             object\n",
       "ended_at               object\n",
       "start_station_name     object\n",
       "start_station_id       object\n",
       "end_station_name       object\n",
       "end_station_id         object\n",
       "start_lat             float64\n",
       "start_lng             float64\n",
       "end_lat               float64\n",
       "end_lng               float64\n",
       "member_casual          object\n",
       "dtype: object"
      ]
     },
     "execution_count": 7,
     "metadata": {},
     "output_type": "execute_result"
    }
   ],
   "source": [
    "data_df.dtypes"
   ]
  },
  {
   "cell_type": "code",
   "execution_count": 8,
   "metadata": {},
   "outputs": [],
   "source": [
    "data_df[\"started_at\"] = pd.to_datetime(data_df[\"started_at\"])\n",
    "data_df[\"ended_at\"] = pd.to_datetime(data_df[\"ended_at\"])"
   ]
  },
  {
   "cell_type": "code",
   "execution_count": 9,
   "metadata": {},
   "outputs": [
    {
     "data": {
      "text/plain": [
       "ride_id                       object\n",
       "rideable_type                 object\n",
       "started_at            datetime64[ns]\n",
       "ended_at              datetime64[ns]\n",
       "start_station_name            object\n",
       "start_station_id              object\n",
       "end_station_name              object\n",
       "end_station_id                object\n",
       "start_lat                    float64\n",
       "start_lng                    float64\n",
       "end_lat                      float64\n",
       "end_lng                      float64\n",
       "member_casual                 object\n",
       "dtype: object"
      ]
     },
     "execution_count": 9,
     "metadata": {},
     "output_type": "execute_result"
    }
   ],
   "source": [
    "data_df.dtypes"
   ]
  },
  {
   "cell_type": "code",
   "execution_count": 10,
   "metadata": {},
   "outputs": [
    {
     "data": {
      "text/plain": [
       "0        00:10:25\n",
       "1        00:04:04\n",
       "2        00:01:20\n",
       "3        00:11:42\n",
       "4        00:00:43\n",
       "           ...   \n",
       "247535   00:19:13\n",
       "247536   00:07:01\n",
       "247537   00:08:17\n",
       "247538   00:14:13\n",
       "247539   00:03:37\n",
       "Name: ride_length, Length: 5595063, dtype: timedelta64[ns]"
      ]
     },
     "execution_count": 10,
     "metadata": {},
     "output_type": "execute_result"
    }
   ],
   "source": [
    "# calculating the ride length \n",
    "data_df[\"ride_length\"]= data_df[\"ended_at\"] - data_df[\"started_at\"]\n",
    "data_df[\"ride_length\"] # viewing the newly added column "
   ]
  },
  {
   "cell_type": "markdown",
   "metadata": {},
   "source": [
    "We can extract start date and start time from the same column. as we would like to know which days are having what number of trips per user type.\n",
    "\n",
    "we would split the single column into two by using str.split function the function takes the character that you want to find and split e.g. it will be a space between the date and time in the field, n=1 means consider the first space found. For all this we first need to convert the format of the column to string inorder for the str.split function to work."
   ]
  },
  {
   "cell_type": "code",
   "execution_count": 11,
   "metadata": {},
   "outputs": [],
   "source": [
    "data_df[['start_date','start_time']] = data_df['started_at'].astype(str).str.split(' ',n=1,expand=True) \n",
    "# n =1 split at the first space"
   ]
  },
  {
   "cell_type": "code",
   "execution_count": 12,
   "metadata": {},
   "outputs": [
    {
     "data": {
      "text/html": [
       "<div>\n",
       "<style scoped>\n",
       "    .dataframe tbody tr th:only-of-type {\n",
       "        vertical-align: middle;\n",
       "    }\n",
       "\n",
       "    .dataframe tbody tr th {\n",
       "        vertical-align: top;\n",
       "    }\n",
       "\n",
       "    .dataframe thead th {\n",
       "        text-align: right;\n",
       "    }\n",
       "</style>\n",
       "<table border=\"1\" class=\"dataframe\">\n",
       "  <thead>\n",
       "    <tr style=\"text-align: right;\">\n",
       "      <th></th>\n",
       "      <th>ride_id</th>\n",
       "      <th>rideable_type</th>\n",
       "      <th>started_at</th>\n",
       "      <th>ended_at</th>\n",
       "      <th>start_station_name</th>\n",
       "      <th>start_station_id</th>\n",
       "      <th>end_station_name</th>\n",
       "      <th>end_station_id</th>\n",
       "      <th>start_lat</th>\n",
       "      <th>start_lng</th>\n",
       "      <th>end_lat</th>\n",
       "      <th>end_lng</th>\n",
       "      <th>member_casual</th>\n",
       "      <th>ride_length</th>\n",
       "      <th>start_date</th>\n",
       "      <th>start_time</th>\n",
       "    </tr>\n",
       "  </thead>\n",
       "  <tbody>\n",
       "    <tr>\n",
       "      <td>0</td>\n",
       "      <td>E19E6F1B8D4C42ED</td>\n",
       "      <td>electric_bike</td>\n",
       "      <td>2021-01-23 16:14:19</td>\n",
       "      <td>2021-01-23 16:24:44</td>\n",
       "      <td>California Ave &amp; Cortez St</td>\n",
       "      <td>17660</td>\n",
       "      <td>NaN</td>\n",
       "      <td>NaN</td>\n",
       "      <td>41.900341</td>\n",
       "      <td>-87.696743</td>\n",
       "      <td>41.89</td>\n",
       "      <td>-87.72</td>\n",
       "      <td>member</td>\n",
       "      <td>00:10:25</td>\n",
       "      <td>2021-01-23</td>\n",
       "      <td>16:14:19</td>\n",
       "    </tr>\n",
       "    <tr>\n",
       "      <td>1</td>\n",
       "      <td>DC88F20C2C55F27F</td>\n",
       "      <td>electric_bike</td>\n",
       "      <td>2021-01-27 18:43:08</td>\n",
       "      <td>2021-01-27 18:47:12</td>\n",
       "      <td>California Ave &amp; Cortez St</td>\n",
       "      <td>17660</td>\n",
       "      <td>NaN</td>\n",
       "      <td>NaN</td>\n",
       "      <td>41.900333</td>\n",
       "      <td>-87.696707</td>\n",
       "      <td>41.90</td>\n",
       "      <td>-87.69</td>\n",
       "      <td>member</td>\n",
       "      <td>00:04:04</td>\n",
       "      <td>2021-01-27</td>\n",
       "      <td>18:43:08</td>\n",
       "    </tr>\n",
       "    <tr>\n",
       "      <td>2</td>\n",
       "      <td>EC45C94683FE3F27</td>\n",
       "      <td>electric_bike</td>\n",
       "      <td>2021-01-21 22:35:54</td>\n",
       "      <td>2021-01-21 22:37:14</td>\n",
       "      <td>California Ave &amp; Cortez St</td>\n",
       "      <td>17660</td>\n",
       "      <td>NaN</td>\n",
       "      <td>NaN</td>\n",
       "      <td>41.900313</td>\n",
       "      <td>-87.696643</td>\n",
       "      <td>41.90</td>\n",
       "      <td>-87.70</td>\n",
       "      <td>member</td>\n",
       "      <td>00:01:20</td>\n",
       "      <td>2021-01-21</td>\n",
       "      <td>22:35:54</td>\n",
       "    </tr>\n",
       "    <tr>\n",
       "      <td>3</td>\n",
       "      <td>4FA453A75AE377DB</td>\n",
       "      <td>electric_bike</td>\n",
       "      <td>2021-01-07 13:31:13</td>\n",
       "      <td>2021-01-07 13:42:55</td>\n",
       "      <td>California Ave &amp; Cortez St</td>\n",
       "      <td>17660</td>\n",
       "      <td>NaN</td>\n",
       "      <td>NaN</td>\n",
       "      <td>41.900399</td>\n",
       "      <td>-87.696662</td>\n",
       "      <td>41.92</td>\n",
       "      <td>-87.69</td>\n",
       "      <td>member</td>\n",
       "      <td>00:11:42</td>\n",
       "      <td>2021-01-07</td>\n",
       "      <td>13:31:13</td>\n",
       "    </tr>\n",
       "    <tr>\n",
       "      <td>4</td>\n",
       "      <td>BE5E8EB4E7263A0B</td>\n",
       "      <td>electric_bike</td>\n",
       "      <td>2021-01-23 02:24:02</td>\n",
       "      <td>2021-01-23 02:24:45</td>\n",
       "      <td>California Ave &amp; Cortez St</td>\n",
       "      <td>17660</td>\n",
       "      <td>NaN</td>\n",
       "      <td>NaN</td>\n",
       "      <td>41.900326</td>\n",
       "      <td>-87.696697</td>\n",
       "      <td>41.90</td>\n",
       "      <td>-87.70</td>\n",
       "      <td>casual</td>\n",
       "      <td>00:00:43</td>\n",
       "      <td>2021-01-23</td>\n",
       "      <td>02:24:02</td>\n",
       "    </tr>\n",
       "  </tbody>\n",
       "</table>\n",
       "</div>"
      ],
      "text/plain": [
       "            ride_id  rideable_type          started_at            ended_at  \\\n",
       "0  E19E6F1B8D4C42ED  electric_bike 2021-01-23 16:14:19 2021-01-23 16:24:44   \n",
       "1  DC88F20C2C55F27F  electric_bike 2021-01-27 18:43:08 2021-01-27 18:47:12   \n",
       "2  EC45C94683FE3F27  electric_bike 2021-01-21 22:35:54 2021-01-21 22:37:14   \n",
       "3  4FA453A75AE377DB  electric_bike 2021-01-07 13:31:13 2021-01-07 13:42:55   \n",
       "4  BE5E8EB4E7263A0B  electric_bike 2021-01-23 02:24:02 2021-01-23 02:24:45   \n",
       "\n",
       "           start_station_name start_station_id end_station_name  \\\n",
       "0  California Ave & Cortez St            17660              NaN   \n",
       "1  California Ave & Cortez St            17660              NaN   \n",
       "2  California Ave & Cortez St            17660              NaN   \n",
       "3  California Ave & Cortez St            17660              NaN   \n",
       "4  California Ave & Cortez St            17660              NaN   \n",
       "\n",
       "  end_station_id  start_lat  start_lng  end_lat  end_lng member_casual  \\\n",
       "0            NaN  41.900341 -87.696743    41.89   -87.72        member   \n",
       "1            NaN  41.900333 -87.696707    41.90   -87.69        member   \n",
       "2            NaN  41.900313 -87.696643    41.90   -87.70        member   \n",
       "3            NaN  41.900399 -87.696662    41.92   -87.69        member   \n",
       "4            NaN  41.900326 -87.696697    41.90   -87.70        casual   \n",
       "\n",
       "  ride_length  start_date start_time  \n",
       "0    00:10:25  2021-01-23   16:14:19  \n",
       "1    00:04:04  2021-01-27   18:43:08  \n",
       "2    00:01:20  2021-01-21   22:35:54  \n",
       "3    00:11:42  2021-01-07   13:31:13  \n",
       "4    00:00:43  2021-01-23   02:24:02  "
      ]
     },
     "execution_count": 12,
     "metadata": {},
     "output_type": "execute_result"
    }
   ],
   "source": [
    "data_df.head()"
   ]
  },
  {
   "cell_type": "code",
   "execution_count": 15,
   "metadata": {},
   "outputs": [],
   "source": [
    "data_df[\"start_time\"] = pd.to_datetime(data_df[\"start_time\"])\n",
    "data_df[\"start_date\"] = pd.to_datetime(data_df[\"start_date\"])"
   ]
  },
  {
   "cell_type": "code",
   "execution_count": 16,
   "metadata": {},
   "outputs": [
    {
     "data": {
      "text/plain": [
       "array([5, 2, 3, 0, 6, 4, 1], dtype=int64)"
      ]
     },
     "execution_count": 16,
     "metadata": {},
     "output_type": "execute_result"
    }
   ],
   "source": [
    "data_df[\"week day\"]=data_df[\"start_date\"].apply(lambda x:x.weekday())\n",
    "# takes a column and applies weekday function on it through lamba which is an anonymous function\n",
    "data_df[\"week day\"].unique() # show only unique values "
   ]
  },
  {
   "cell_type": "code",
   "execution_count": 17,
   "metadata": {},
   "outputs": [],
   "source": [
    "day_dict={0:\"Sunday\", 1:\"Monday\",2:\"Tuesday\",3:\"Wednesday\",4:\"Thursday\",5:\"Friday\",6:\"saturday\"}"
   ]
  },
  {
   "cell_type": "code",
   "execution_count": 18,
   "metadata": {},
   "outputs": [],
   "source": [
    "data_df[\"weekday_name\"]= data_df['week day'].apply(lambda y:day_dict[y])"
   ]
  },
  {
   "cell_type": "code",
   "execution_count": 19,
   "metadata": {},
   "outputs": [
    {
     "data": {
      "text/html": [
       "<div>\n",
       "<style scoped>\n",
       "    .dataframe tbody tr th:only-of-type {\n",
       "        vertical-align: middle;\n",
       "    }\n",
       "\n",
       "    .dataframe tbody tr th {\n",
       "        vertical-align: top;\n",
       "    }\n",
       "\n",
       "    .dataframe thead th {\n",
       "        text-align: right;\n",
       "    }\n",
       "</style>\n",
       "<table border=\"1\" class=\"dataframe\">\n",
       "  <thead>\n",
       "    <tr style=\"text-align: right;\">\n",
       "      <th></th>\n",
       "      <th>ride_id</th>\n",
       "      <th>rideable_type</th>\n",
       "      <th>started_at</th>\n",
       "      <th>ended_at</th>\n",
       "      <th>start_station_name</th>\n",
       "      <th>start_station_id</th>\n",
       "      <th>end_station_name</th>\n",
       "      <th>end_station_id</th>\n",
       "      <th>start_lat</th>\n",
       "      <th>start_lng</th>\n",
       "      <th>end_lat</th>\n",
       "      <th>end_lng</th>\n",
       "      <th>member_casual</th>\n",
       "      <th>ride_length</th>\n",
       "      <th>start_date</th>\n",
       "      <th>start_time</th>\n",
       "      <th>week day</th>\n",
       "      <th>weekday_name</th>\n",
       "      <th>year</th>\n",
       "      <th>month</th>\n",
       "    </tr>\n",
       "  </thead>\n",
       "  <tbody>\n",
       "    <tr>\n",
       "      <td>0</td>\n",
       "      <td>E19E6F1B8D4C42ED</td>\n",
       "      <td>electric_bike</td>\n",
       "      <td>2021-01-23 16:14:19</td>\n",
       "      <td>2021-01-23 16:24:44</td>\n",
       "      <td>California Ave &amp; Cortez St</td>\n",
       "      <td>17660</td>\n",
       "      <td>NaN</td>\n",
       "      <td>NaN</td>\n",
       "      <td>41.900341</td>\n",
       "      <td>-87.696743</td>\n",
       "      <td>41.89</td>\n",
       "      <td>-87.72</td>\n",
       "      <td>member</td>\n",
       "      <td>00:10:25</td>\n",
       "      <td>2021-01-23</td>\n",
       "      <td>2022-09-17 16:14:19</td>\n",
       "      <td>5</td>\n",
       "      <td>Friday</td>\n",
       "      <td>2021</td>\n",
       "      <td>1</td>\n",
       "    </tr>\n",
       "    <tr>\n",
       "      <td>1</td>\n",
       "      <td>DC88F20C2C55F27F</td>\n",
       "      <td>electric_bike</td>\n",
       "      <td>2021-01-27 18:43:08</td>\n",
       "      <td>2021-01-27 18:47:12</td>\n",
       "      <td>California Ave &amp; Cortez St</td>\n",
       "      <td>17660</td>\n",
       "      <td>NaN</td>\n",
       "      <td>NaN</td>\n",
       "      <td>41.900333</td>\n",
       "      <td>-87.696707</td>\n",
       "      <td>41.90</td>\n",
       "      <td>-87.69</td>\n",
       "      <td>member</td>\n",
       "      <td>00:04:04</td>\n",
       "      <td>2021-01-27</td>\n",
       "      <td>2022-09-17 18:43:08</td>\n",
       "      <td>2</td>\n",
       "      <td>Tuesday</td>\n",
       "      <td>2021</td>\n",
       "      <td>1</td>\n",
       "    </tr>\n",
       "    <tr>\n",
       "      <td>2</td>\n",
       "      <td>EC45C94683FE3F27</td>\n",
       "      <td>electric_bike</td>\n",
       "      <td>2021-01-21 22:35:54</td>\n",
       "      <td>2021-01-21 22:37:14</td>\n",
       "      <td>California Ave &amp; Cortez St</td>\n",
       "      <td>17660</td>\n",
       "      <td>NaN</td>\n",
       "      <td>NaN</td>\n",
       "      <td>41.900313</td>\n",
       "      <td>-87.696643</td>\n",
       "      <td>41.90</td>\n",
       "      <td>-87.70</td>\n",
       "      <td>member</td>\n",
       "      <td>00:01:20</td>\n",
       "      <td>2021-01-21</td>\n",
       "      <td>2022-09-17 22:35:54</td>\n",
       "      <td>3</td>\n",
       "      <td>Wednesday</td>\n",
       "      <td>2021</td>\n",
       "      <td>1</td>\n",
       "    </tr>\n",
       "    <tr>\n",
       "      <td>3</td>\n",
       "      <td>4FA453A75AE377DB</td>\n",
       "      <td>electric_bike</td>\n",
       "      <td>2021-01-07 13:31:13</td>\n",
       "      <td>2021-01-07 13:42:55</td>\n",
       "      <td>California Ave &amp; Cortez St</td>\n",
       "      <td>17660</td>\n",
       "      <td>NaN</td>\n",
       "      <td>NaN</td>\n",
       "      <td>41.900399</td>\n",
       "      <td>-87.696662</td>\n",
       "      <td>41.92</td>\n",
       "      <td>-87.69</td>\n",
       "      <td>member</td>\n",
       "      <td>00:11:42</td>\n",
       "      <td>2021-01-07</td>\n",
       "      <td>2022-09-17 13:31:13</td>\n",
       "      <td>3</td>\n",
       "      <td>Wednesday</td>\n",
       "      <td>2021</td>\n",
       "      <td>1</td>\n",
       "    </tr>\n",
       "    <tr>\n",
       "      <td>4</td>\n",
       "      <td>BE5E8EB4E7263A0B</td>\n",
       "      <td>electric_bike</td>\n",
       "      <td>2021-01-23 02:24:02</td>\n",
       "      <td>2021-01-23 02:24:45</td>\n",
       "      <td>California Ave &amp; Cortez St</td>\n",
       "      <td>17660</td>\n",
       "      <td>NaN</td>\n",
       "      <td>NaN</td>\n",
       "      <td>41.900326</td>\n",
       "      <td>-87.696697</td>\n",
       "      <td>41.90</td>\n",
       "      <td>-87.70</td>\n",
       "      <td>casual</td>\n",
       "      <td>00:00:43</td>\n",
       "      <td>2021-01-23</td>\n",
       "      <td>2022-09-17 02:24:02</td>\n",
       "      <td>5</td>\n",
       "      <td>Friday</td>\n",
       "      <td>2021</td>\n",
       "      <td>1</td>\n",
       "    </tr>\n",
       "  </tbody>\n",
       "</table>\n",
       "</div>"
      ],
      "text/plain": [
       "            ride_id  rideable_type          started_at            ended_at  \\\n",
       "0  E19E6F1B8D4C42ED  electric_bike 2021-01-23 16:14:19 2021-01-23 16:24:44   \n",
       "1  DC88F20C2C55F27F  electric_bike 2021-01-27 18:43:08 2021-01-27 18:47:12   \n",
       "2  EC45C94683FE3F27  electric_bike 2021-01-21 22:35:54 2021-01-21 22:37:14   \n",
       "3  4FA453A75AE377DB  electric_bike 2021-01-07 13:31:13 2021-01-07 13:42:55   \n",
       "4  BE5E8EB4E7263A0B  electric_bike 2021-01-23 02:24:02 2021-01-23 02:24:45   \n",
       "\n",
       "           start_station_name start_station_id end_station_name  \\\n",
       "0  California Ave & Cortez St            17660              NaN   \n",
       "1  California Ave & Cortez St            17660              NaN   \n",
       "2  California Ave & Cortez St            17660              NaN   \n",
       "3  California Ave & Cortez St            17660              NaN   \n",
       "4  California Ave & Cortez St            17660              NaN   \n",
       "\n",
       "  end_station_id  start_lat  start_lng  end_lat  end_lng member_casual  \\\n",
       "0            NaN  41.900341 -87.696743    41.89   -87.72        member   \n",
       "1            NaN  41.900333 -87.696707    41.90   -87.69        member   \n",
       "2            NaN  41.900313 -87.696643    41.90   -87.70        member   \n",
       "3            NaN  41.900399 -87.696662    41.92   -87.69        member   \n",
       "4            NaN  41.900326 -87.696697    41.90   -87.70        casual   \n",
       "\n",
       "  ride_length start_date          start_time  week day weekday_name  year  \\\n",
       "0    00:10:25 2021-01-23 2022-09-17 16:14:19         5       Friday  2021   \n",
       "1    00:04:04 2021-01-27 2022-09-17 18:43:08         2      Tuesday  2021   \n",
       "2    00:01:20 2021-01-21 2022-09-17 22:35:54         3    Wednesday  2021   \n",
       "3    00:11:42 2021-01-07 2022-09-17 13:31:13         3    Wednesday  2021   \n",
       "4    00:00:43 2021-01-23 2022-09-17 02:24:02         5       Friday  2021   \n",
       "\n",
       "   month  \n",
       "0      1  \n",
       "1      1  \n",
       "2      1  \n",
       "3      1  \n",
       "4      1  "
      ]
     },
     "execution_count": 19,
     "metadata": {},
     "output_type": "execute_result"
    }
   ],
   "source": [
    "data_df['year'] = pd.DatetimeIndex(data_df['start_date']).year\n",
    "data_df['month']= pd.DatetimeIndex(data_df['start_date']).month\n",
    "data_df.head()"
   ]
  },
  {
   "cell_type": "code",
   "execution_count": 20,
   "metadata": {},
   "outputs": [],
   "source": [
    "#sort the dataFrame by start date in ascending order \n",
    "data_df.sort_values(by=['start_date'],inplace= True, ascending=True )"
   ]
  },
  {
   "cell_type": "code",
   "execution_count": 21,
   "metadata": {},
   "outputs": [
    {
     "data": {
      "text/plain": [
       "ride_id                    0\n",
       "rideable_type              0\n",
       "started_at                 0\n",
       "ended_at                   0\n",
       "start_station_name    690809\n",
       "start_station_id      690806\n",
       "end_station_name      739170\n",
       "end_station_id        739170\n",
       "start_lat                  0\n",
       "start_lng                  0\n",
       "end_lat                 4771\n",
       "end_lng                 4771\n",
       "member_casual              0\n",
       "ride_length                0\n",
       "start_date                 0\n",
       "start_time                 0\n",
       "week day                   0\n",
       "weekday_name               0\n",
       "year                       0\n",
       "month                      0\n",
       "dtype: int64"
      ]
     },
     "execution_count": 21,
     "metadata": {},
     "output_type": "execute_result"
    }
   ],
   "source": [
    "data_df.isnull().sum()"
   ]
  },
  {
   "cell_type": "code",
   "execution_count": 22,
   "metadata": {},
   "outputs": [
    {
     "data": {
      "text/plain": [
       "False"
      ]
     },
     "execution_count": 22,
     "metadata": {},
     "output_type": "execute_result"
    }
   ],
   "source": [
    "data_df.duplicated().any()"
   ]
  },
  {
   "cell_type": "markdown",
   "metadata": {},
   "source": [
    "lets find out the mean ride length of both groups of users such as member and casual"
   ]
  },
  {
   "cell_type": "code",
   "execution_count": 23,
   "metadata": {},
   "outputs": [
    {
     "data": {
      "text/plain": [
       "Timedelta('0 days 00:13:37.970452')"
      ]
     },
     "execution_count": 23,
     "metadata": {},
     "output_type": "execute_result"
    }
   ],
   "source": [
    "data_member = data_df[data_df[\"member_casual\"]==\"member\"]\n",
    "data_member_ride_len_mean = data_member[\"ride_length\"].mean()\n",
    "data_member_ride_len_mean"
   ]
  },
  {
   "cell_type": "code",
   "execution_count": 24,
   "metadata": {},
   "outputs": [
    {
     "data": {
      "text/plain": [
       "Timedelta('0 days 00:32:00.056830')"
      ]
     },
     "execution_count": 24,
     "metadata": {},
     "output_type": "execute_result"
    }
   ],
   "source": [
    "data_casual = data_df[data_df[\"member_casual\"]==\"casual\"]\n",
    "data_casual_ride_len_mean = data_casual[\"ride_length\"].mean()\n",
    "data_casual_ride_len_mean"
   ]
  },
  {
   "cell_type": "code",
   "execution_count": 25,
   "metadata": {},
   "outputs": [
    {
     "data": {
      "text/plain": [
       "Timedelta('1 days 01:59:56')"
      ]
     },
     "execution_count": 25,
     "metadata": {},
     "output_type": "execute_result"
    }
   ],
   "source": [
    "data_member_ride_len_max = data_member[\"ride_length\"].max()\n",
    "data_member_ride_len_max"
   ]
  },
  {
   "cell_type": "code",
   "execution_count": 26,
   "metadata": {},
   "outputs": [
    {
     "data": {
      "text/plain": [
       "Timedelta('38 days 20:24:09')"
      ]
     },
     "execution_count": 26,
     "metadata": {},
     "output_type": "execute_result"
    }
   ],
   "source": [
    "data_casual_ride_len_max = data_casual[\"ride_length\"].max()\n",
    "data_casual_ride_len_max"
   ]
  },
  {
   "cell_type": "code",
   "execution_count": 27,
   "metadata": {},
   "outputs": [
    {
     "data": {
      "text/plain": [
       "0    2\n",
       "dtype: int64"
      ]
     },
     "execution_count": 27,
     "metadata": {},
     "output_type": "execute_result"
    }
   ],
   "source": [
    "# calculate the mode of week day for memember which means to see what day do they usually ride on\n",
    "data_member_ride_day_mode = data_member[\"week day\"].mode()\n",
    "data_member_ride_day_mode\n",
    "# 2 is Tuesday"
   ]
  },
  {
   "cell_type": "code",
   "execution_count": 28,
   "metadata": {},
   "outputs": [
    {
     "data": {
      "text/plain": [
       "0    5\n",
       "dtype: int64"
      ]
     },
     "execution_count": 28,
     "metadata": {},
     "output_type": "execute_result"
    }
   ],
   "source": [
    "data_member_ride_day_mode = data_casual[\"week day\"].mode()\n",
    "data_member_ride_day_mode\n",
    "# 5 is friday"
   ]
  },
  {
   "cell_type": "code",
   "execution_count": 29,
   "metadata": {},
   "outputs": [
    {
     "data": {
      "text/plain": [
       "week day\n",
       "0    416212\n",
       "1    465513\n",
       "2    477192\n",
       "3    451524\n",
       "4    446428\n",
       "5    433047\n",
       "6    376142\n",
       "Name: ride_id, dtype: int64"
      ]
     },
     "execution_count": 29,
     "metadata": {},
     "output_type": "execute_result"
    }
   ],
   "source": [
    "mem_rides_pday= data_df[data_df[\"member_casual\"]==\"member\"].groupby('week day')['ride_id'].count()\n",
    "mem_rides_pday"
   ]
  },
  {
   "cell_type": "code",
   "execution_count": 30,
   "metadata": {},
   "outputs": [
    {
     "data": {
      "text/plain": [
       "week day\n",
       "0    286376\n",
       "1    274392\n",
       "2    278950\n",
       "3    286064\n",
       "4    364080\n",
       "5    558000\n",
       "6    481143\n",
       "Name: ride_id, dtype: int64"
      ]
     },
     "execution_count": 30,
     "metadata": {},
     "output_type": "execute_result"
    }
   ],
   "source": [
    "cas_rides_pday = data_df[data_df[\"member_casual\"]==\"casual\"].groupby('week day')['ride_id'].count()\n",
    "cas_rides_pday"
   ]
  },
  {
   "cell_type": "code",
   "execution_count": 32,
   "metadata": {},
   "outputs": [
    {
     "data": {
      "text/html": [
       "<div>\n",
       "<style scoped>\n",
       "    .dataframe tbody tr th:only-of-type {\n",
       "        vertical-align: middle;\n",
       "    }\n",
       "\n",
       "    .dataframe tbody tr th {\n",
       "        vertical-align: top;\n",
       "    }\n",
       "\n",
       "    .dataframe thead th {\n",
       "        text-align: right;\n",
       "    }\n",
       "</style>\n",
       "<table border=\"1\" class=\"dataframe\">\n",
       "  <thead>\n",
       "    <tr style=\"text-align: right;\">\n",
       "      <th></th>\n",
       "      <th>ride_id</th>\n",
       "      <th>rideable_type</th>\n",
       "      <th>started_at</th>\n",
       "      <th>ended_at</th>\n",
       "      <th>start_station_name</th>\n",
       "      <th>start_station_id</th>\n",
       "      <th>end_station_name</th>\n",
       "      <th>end_station_id</th>\n",
       "      <th>start_lat</th>\n",
       "      <th>start_lng</th>\n",
       "      <th>end_lat</th>\n",
       "      <th>end_lng</th>\n",
       "      <th>member_casual</th>\n",
       "      <th>ride_length</th>\n",
       "      <th>start_date</th>\n",
       "      <th>start_time</th>\n",
       "      <th>week day</th>\n",
       "      <th>weekday_name</th>\n",
       "      <th>year</th>\n",
       "      <th>month</th>\n",
       "    </tr>\n",
       "  </thead>\n",
       "  <tbody>\n",
       "    <tr>\n",
       "      <td>65943</td>\n",
       "      <td>BC3CB970F08D36B6</td>\n",
       "      <td>electric_bike</td>\n",
       "      <td>2021-01-01 15:35:15</td>\n",
       "      <td>2021-01-01 15:44:46</td>\n",
       "      <td>Kingsbury St &amp; Kinzie St</td>\n",
       "      <td>KA1503000043</td>\n",
       "      <td>Clark St &amp; Elm St</td>\n",
       "      <td>TA1307000039</td>\n",
       "      <td>41.889106</td>\n",
       "      <td>-87.638383</td>\n",
       "      <td>41.902375</td>\n",
       "      <td>-87.631635</td>\n",
       "      <td>member</td>\n",
       "      <td>00:09:31</td>\n",
       "      <td>2021-01-01</td>\n",
       "      <td>2022-09-17 15:35:15</td>\n",
       "      <td>4</td>\n",
       "      <td>Thursday</td>\n",
       "      <td>2021</td>\n",
       "      <td>1</td>\n",
       "    </tr>\n",
       "    <tr>\n",
       "      <td>14763</td>\n",
       "      <td>5E125D8F1F7B1813</td>\n",
       "      <td>classic_bike</td>\n",
       "      <td>2021-01-01 14:26:46</td>\n",
       "      <td>2021-01-01 14:32:16</td>\n",
       "      <td>Columbus Dr &amp; Randolph St</td>\n",
       "      <td>13263</td>\n",
       "      <td>New St &amp; Illinois St</td>\n",
       "      <td>TA1306000013</td>\n",
       "      <td>41.884728</td>\n",
       "      <td>-87.619521</td>\n",
       "      <td>41.890847</td>\n",
       "      <td>-87.618617</td>\n",
       "      <td>member</td>\n",
       "      <td>00:05:30</td>\n",
       "      <td>2021-01-01</td>\n",
       "      <td>2022-09-17 14:26:46</td>\n",
       "      <td>4</td>\n",
       "      <td>Thursday</td>\n",
       "      <td>2021</td>\n",
       "      <td>1</td>\n",
       "    </tr>\n",
       "    <tr>\n",
       "      <td>58467</td>\n",
       "      <td>15ACCC355D076101</td>\n",
       "      <td>classic_bike</td>\n",
       "      <td>2021-01-01 20:02:09</td>\n",
       "      <td>2021-01-01 20:39:53</td>\n",
       "      <td>Fairbanks Ct &amp; Grand Ave</td>\n",
       "      <td>TA1305000003</td>\n",
       "      <td>Field Blvd &amp; South Water St</td>\n",
       "      <td>15534</td>\n",
       "      <td>41.891847</td>\n",
       "      <td>-87.620580</td>\n",
       "      <td>41.886349</td>\n",
       "      <td>-87.617517</td>\n",
       "      <td>member</td>\n",
       "      <td>00:37:44</td>\n",
       "      <td>2021-01-01</td>\n",
       "      <td>2022-09-17 20:02:09</td>\n",
       "      <td>4</td>\n",
       "      <td>Thursday</td>\n",
       "      <td>2021</td>\n",
       "      <td>1</td>\n",
       "    </tr>\n",
       "    <tr>\n",
       "      <td>12687</td>\n",
       "      <td>90EBA06FDFD44CFE</td>\n",
       "      <td>classic_bike</td>\n",
       "      <td>2021-01-01 13:12:14</td>\n",
       "      <td>2021-01-01 13:17:09</td>\n",
       "      <td>Federal St &amp; Polk St</td>\n",
       "      <td>SL-008</td>\n",
       "      <td>Franklin St &amp; Jackson Blvd</td>\n",
       "      <td>TA1305000025</td>\n",
       "      <td>41.872078</td>\n",
       "      <td>-87.629544</td>\n",
       "      <td>41.877708</td>\n",
       "      <td>-87.635321</td>\n",
       "      <td>member</td>\n",
       "      <td>00:04:55</td>\n",
       "      <td>2021-01-01</td>\n",
       "      <td>2022-09-17 13:12:14</td>\n",
       "      <td>4</td>\n",
       "      <td>Thursday</td>\n",
       "      <td>2021</td>\n",
       "      <td>1</td>\n",
       "    </tr>\n",
       "    <tr>\n",
       "      <td>22135</td>\n",
       "      <td>CBF551444E1D77B8</td>\n",
       "      <td>classic_bike</td>\n",
       "      <td>2021-01-01 16:47:56</td>\n",
       "      <td>2021-01-01 16:52:02</td>\n",
       "      <td>Paulina St &amp; Howard St</td>\n",
       "      <td>515</td>\n",
       "      <td>Greenview Ave &amp; Jarvis Ave</td>\n",
       "      <td>520</td>\n",
       "      <td>42.019159</td>\n",
       "      <td>-87.673573</td>\n",
       "      <td>42.015962</td>\n",
       "      <td>-87.668570</td>\n",
       "      <td>member</td>\n",
       "      <td>00:04:06</td>\n",
       "      <td>2021-01-01</td>\n",
       "      <td>2022-09-17 16:47:56</td>\n",
       "      <td>4</td>\n",
       "      <td>Thursday</td>\n",
       "      <td>2021</td>\n",
       "      <td>1</td>\n",
       "    </tr>\n",
       "  </tbody>\n",
       "</table>\n",
       "</div>"
      ],
      "text/plain": [
       "                ride_id  rideable_type          started_at  \\\n",
       "65943  BC3CB970F08D36B6  electric_bike 2021-01-01 15:35:15   \n",
       "14763  5E125D8F1F7B1813   classic_bike 2021-01-01 14:26:46   \n",
       "58467  15ACCC355D076101   classic_bike 2021-01-01 20:02:09   \n",
       "12687  90EBA06FDFD44CFE   classic_bike 2021-01-01 13:12:14   \n",
       "22135  CBF551444E1D77B8   classic_bike 2021-01-01 16:47:56   \n",
       "\n",
       "                 ended_at         start_station_name start_station_id  \\\n",
       "65943 2021-01-01 15:44:46   Kingsbury St & Kinzie St     KA1503000043   \n",
       "14763 2021-01-01 14:32:16  Columbus Dr & Randolph St            13263   \n",
       "58467 2021-01-01 20:39:53   Fairbanks Ct & Grand Ave     TA1305000003   \n",
       "12687 2021-01-01 13:17:09       Federal St & Polk St           SL-008   \n",
       "22135 2021-01-01 16:52:02     Paulina St & Howard St              515   \n",
       "\n",
       "                  end_station_name end_station_id  start_lat  start_lng  \\\n",
       "65943            Clark St & Elm St   TA1307000039  41.889106 -87.638383   \n",
       "14763         New St & Illinois St   TA1306000013  41.884728 -87.619521   \n",
       "58467  Field Blvd & South Water St          15534  41.891847 -87.620580   \n",
       "12687   Franklin St & Jackson Blvd   TA1305000025  41.872078 -87.629544   \n",
       "22135   Greenview Ave & Jarvis Ave            520  42.019159 -87.673573   \n",
       "\n",
       "         end_lat    end_lng member_casual ride_length start_date  \\\n",
       "65943  41.902375 -87.631635        member    00:09:31 2021-01-01   \n",
       "14763  41.890847 -87.618617        member    00:05:30 2021-01-01   \n",
       "58467  41.886349 -87.617517        member    00:37:44 2021-01-01   \n",
       "12687  41.877708 -87.635321        member    00:04:55 2021-01-01   \n",
       "22135  42.015962 -87.668570        member    00:04:06 2021-01-01   \n",
       "\n",
       "               start_time  week day weekday_name  year  month  \n",
       "65943 2022-09-17 15:35:15         4     Thursday  2021      1  \n",
       "14763 2022-09-17 14:26:46         4     Thursday  2021      1  \n",
       "58467 2022-09-17 20:02:09         4     Thursday  2021      1  \n",
       "12687 2022-09-17 13:12:14         4     Thursday  2021      1  \n",
       "22135 2022-09-17 16:47:56         4     Thursday  2021      1  "
      ]
     },
     "execution_count": 32,
     "metadata": {},
     "output_type": "execute_result"
    }
   ],
   "source": [
    "data_df.head()"
   ]
  },
  {
   "cell_type": "code",
   "execution_count": 36,
   "metadata": {},
   "outputs": [
    {
     "data": {
      "image/png": "[encoded data removed]",
      "text/plain": [
       "<Figure size 576x432 with 1 Axes>"
      ]
     },
     "metadata": {
      "needs_background": "light"
     },
     "output_type": "display_data"
    }
   ],
   "source": [
    "plt.figure(figsize=(8,6))\n",
    "plt.plot(mem_rides_pday) # gets average ride length in minutes \n",
    "plt.plot(cas_rides_pday)\n",
    "plt.title(\"Number of rides per day- Member vs casual\")\n",
    "plt.legend([\"members\",\"casual\"])\n",
    "labels=[\"Sunday\",\"Monday\",\"Tuesday\",\"Wednesday\",\"Thursday\",\"Friday\",\"Saturday\"]\n",
    "plt.xticks(mem_rides_pday.index,labels)\n",
    "plt.show()"
   ]
  },
  {
   "cell_type": "markdown",
   "metadata": {},
   "source": [
    "It confirms from the above plot what we already found out that the member users tend to use rides on the week days where as the casual members are riding more on the weekends."
   ]
  },
  {
   "cell_type": "code",
   "execution_count": 38,
   "metadata": {},
   "outputs": [
    {
     "data": {
      "text/plain": [
       "member    3066058\n",
       "casual    2529005\n",
       "Name: member_casual, dtype: int64"
      ]
     },
     "execution_count": 38,
     "metadata": {},
     "output_type": "execute_result"
    }
   ],
   "source": [
    "member_type =data_df[\"member_casual\"].value_counts()\n",
    "member_type"
   ]
  },
  {
   "cell_type": "code",
   "execution_count": 39,
   "metadata": {},
   "outputs": [
    {
     "data": {
      "image/png": "[encoded data removed]",
      "text/plain": [
       "<Figure size 432x288 with 1 Axes>"
      ]
     },
     "metadata": {
      "needs_background": "light"
     },
     "output_type": "display_data"
    }
   ],
   "source": [
    "plt.title(\"Number of users- Member and Causal\")\n",
    "plt.bar(member_type.index, member_type.values)\n",
    "plt.ticklabel_format(style='plain', axis='y')"
   ]
  },
  {
   "cell_type": "code",
   "execution_count": 40,
   "metadata": {},
   "outputs": [
    {
     "data": {
      "image/png": "[encoded data removed]",
      "text/plain": [
       "<Figure size 576x432 with 1 Axes>"
      ]
     },
     "metadata": {},
     "output_type": "display_data"
    }
   ],
   "source": [
    "# pie chart  to see the percentage\n",
    "plt.figure(figsize=(8,6))\n",
    "plt.pie(member_type.values, labels =member_type.index,autopct='%1.1f%%')\n",
    "plt.title(\"Percentage of each user type\")\n",
    "plt.legend(member_type.index)\n",
    "plt.show()"
   ]
  },
  {
   "cell_type": "code",
   "execution_count": 41,
   "metadata": {},
   "outputs": [
    {
     "data": {
      "text/plain": [
       "month  member_casual\n",
       "1      member            78717\n",
       "       casual            18117\n",
       "2      member            39491\n",
       "       casual            10131\n",
       "3      member           144463\n",
       "       casual            84033\n",
       "4      member           200629\n",
       "       casual           136601\n",
       "5      member           274717\n",
       "       casual           256916\n",
       "6      casual           370681\n",
       "       member           358914\n",
       "7      casual           442056\n",
       "       member           380354\n",
       "8      casual           412671\n",
       "       member           391681\n",
       "9      member           392257\n",
       "       casual           363890\n",
       "10     member           373984\n",
       "       casual           257242\n",
       "11     member           253049\n",
       "       casual           106929\n",
       "12     member           177802\n",
       "       casual            69738\n",
       "Name: member_casual, dtype: int64"
      ]
     },
     "execution_count": 41,
     "metadata": {},
     "output_type": "execute_result"
    }
   ],
   "source": [
    "#To check monthly trends in the users\n",
    "monthly_users = data_df.groupby(\"month\") ['member_casual'].value_counts()\n",
    "monthly_users"
   ]
  },
  {
   "cell_type": "code",
   "execution_count": 43,
   "metadata": {},
   "outputs": [
    {
     "data": {
      "text/plain": [
       "<matplotlib.axes._subplots.AxesSubplot at 0x24605db3248>"
      ]
     },
     "execution_count": 43,
     "metadata": {},
     "output_type": "execute_result"
    },
    {
     "data": {
      "image/png": "[encoded data removed]",
      "text/plain": [
       "<Figure size 576x432 with 1 Axes>"
      ]
     },
     "metadata": {
      "needs_background": "light"
     },
     "output_type": "display_data"
    }
   ],
   "source": [
    "plt.figure(figsize=(8,6))\n",
    "\n",
    "sns.countplot(x=\"member_casual\",hue=\"month\", data=data_df)"
   ]
  },
  {
   "cell_type": "code",
   "execution_count": 44,
   "metadata": {},
   "outputs": [
    {
     "data": {
      "image/png": "[encoded data removed]",
      "text/plain": [
       "<Figure size 576x432 with 1 Axes>"
      ]
     },
     "metadata": {
      "needs_background": "light"
     },
     "output_type": "display_data"
    }
   ],
   "source": [
    "plt.figure(figsize=(8,6))\n",
    "sns.countplot(x=\"member_casual\", hue=\"rideable_type\", data=data_df)\n",
    "plt.ticklabel_format(style='plain', axis='y') # for removing #scientific notation"
   ]
  },
  {
   "cell_type": "code",
   "execution_count": null,
   "metadata": {},
   "outputs": [],
   "source": []
  },
  {
   "cell_type": "code",
   "execution_count": null,
   "metadata": {},
   "outputs": [],
   "source": []
  },
  {
   "cell_type": "code",
   "execution_count": null,
   "metadata": {},
   "outputs": [],
   "source": []
  },
  {
   "cell_type": "code",
   "execution_count": null,
   "metadata": {},
   "outputs": [],
   "source": []
  }
 ],
 "metadata": {
  "kernelspec": {
   "display_name": "Python 3",
   "language": "python",
   "name": "python3"
  },
  "language_info": {
   "codemirror_mode": {
    "name": "ipython",
    "version": 3
   },
   "file_extension": ".py",
   "mimetype": "text/x-python",
   "name": "python",
   "nbconvert_exporter": "python",
   "pygments_lexer": "ipython3",
   "version": "3.7.4"
  }
 },
 "nbformat": 4,
 "nbformat_minor": 2
}
